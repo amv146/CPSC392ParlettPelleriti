{
 "cells": [
  {
   "cell_type": "code",
   "execution_count": 59,
   "metadata": {},
   "outputs": [],
   "source": [
    "import warnings\n",
    "warnings.filterwarnings('ignore')\n",
    "\n",
    "\n",
    "import pandas as pd\n",
    "import numpy as np\n",
    "from plotnine import *\n",
    "import statsmodels.api as sm\n",
    "\n",
    "from sklearn.linear_model import LinearRegression # Linear Regression Model\n",
    "from sklearn.preprocessing import StandardScaler #Z-score variables\n",
    "from sklearn.metrics import mean_squared_error, r2_score, accuracy_score #model evaluation\n",
    "\n",
    "from sklearn.model_selection import train_test_split # simple TT split cv\n",
    "from sklearn.model_selection import KFold # k-fold cv\n",
    "from sklearn.model_selection import LeaveOneOut #LOO cv\n",
    "\n",
    "\n",
    "%matplotlib inline"
   ]
  },
  {
   "cell_type": "code",
   "execution_count": 60,
   "metadata": {},
   "outputs": [
    {
     "data": {
      "text/html": [
       "<div>\n",
       "<style scoped>\n",
       "    .dataframe tbody tr th:only-of-type {\n",
       "        vertical-align: middle;\n",
       "    }\n",
       "\n",
       "    .dataframe tbody tr th {\n",
       "        vertical-align: top;\n",
       "    }\n",
       "\n",
       "    .dataframe thead th {\n",
       "        text-align: right;\n",
       "    }\n",
       "</style>\n",
       "<table border=\"1\" class=\"dataframe\">\n",
       "  <thead>\n",
       "    <tr style=\"text-align: right;\">\n",
       "      <th></th>\n",
       "      <th>Unnamed: 0</th>\n",
       "      <th>artist_name</th>\n",
       "      <th>danceability</th>\n",
       "      <th>energy</th>\n",
       "      <th>key</th>\n",
       "      <th>loudness</th>\n",
       "      <th>mode</th>\n",
       "      <th>speechiness</th>\n",
       "      <th>acousticness</th>\n",
       "      <th>instrumentalness</th>\n",
       "      <th>liveness</th>\n",
       "      <th>valence</th>\n",
       "      <th>duration_ms</th>\n",
       "      <th>track_name</th>\n",
       "    </tr>\n",
       "  </thead>\n",
       "  <tbody>\n",
       "    <tr>\n",
       "      <th>0</th>\n",
       "      <td>1</td>\n",
       "      <td>Jonas Brothers</td>\n",
       "      <td>0.594</td>\n",
       "      <td>0.464</td>\n",
       "      <td>0</td>\n",
       "      <td>-7.898</td>\n",
       "      <td>1</td>\n",
       "      <td>0.0340</td>\n",
       "      <td>0.306000</td>\n",
       "      <td>0.000000</td>\n",
       "      <td>0.1870</td>\n",
       "      <td>0.545</td>\n",
       "      <td>193866</td>\n",
       "      <td>Please Be Mine</td>\n",
       "    </tr>\n",
       "    <tr>\n",
       "      <th>1</th>\n",
       "      <td>2</td>\n",
       "      <td>Jonas Brothers</td>\n",
       "      <td>0.582</td>\n",
       "      <td>0.697</td>\n",
       "      <td>7</td>\n",
       "      <td>-3.842</td>\n",
       "      <td>1</td>\n",
       "      <td>0.0695</td>\n",
       "      <td>0.000745</td>\n",
       "      <td>0.000000</td>\n",
       "      <td>0.1850</td>\n",
       "      <td>0.701</td>\n",
       "      <td>153346</td>\n",
       "      <td>S.O.S.</td>\n",
       "    </tr>\n",
       "    <tr>\n",
       "      <th>2</th>\n",
       "      <td>3</td>\n",
       "      <td>Jonas Brothers</td>\n",
       "      <td>0.442</td>\n",
       "      <td>0.961</td>\n",
       "      <td>1</td>\n",
       "      <td>-2.914</td>\n",
       "      <td>1</td>\n",
       "      <td>0.0928</td>\n",
       "      <td>0.000035</td>\n",
       "      <td>0.000036</td>\n",
       "      <td>0.0619</td>\n",
       "      <td>0.405</td>\n",
       "      <td>168480</td>\n",
       "      <td>Mandy</td>\n",
       "    </tr>\n",
       "    <tr>\n",
       "      <th>3</th>\n",
       "      <td>4</td>\n",
       "      <td>Jonas Brothers</td>\n",
       "      <td>0.659</td>\n",
       "      <td>0.857</td>\n",
       "      <td>11</td>\n",
       "      <td>-5.850</td>\n",
       "      <td>1</td>\n",
       "      <td>0.0437</td>\n",
       "      <td>0.004500</td>\n",
       "      <td>0.000002</td>\n",
       "      <td>0.3350</td>\n",
       "      <td>0.798</td>\n",
       "      <td>201960</td>\n",
       "      <td>Year 3000</td>\n",
       "    </tr>\n",
       "    <tr>\n",
       "      <th>4</th>\n",
       "      <td>5</td>\n",
       "      <td>Jonas Brothers</td>\n",
       "      <td>0.468</td>\n",
       "      <td>0.893</td>\n",
       "      <td>11</td>\n",
       "      <td>-3.554</td>\n",
       "      <td>1</td>\n",
       "      <td>0.1300</td>\n",
       "      <td>0.003890</td>\n",
       "      <td>0.000000</td>\n",
       "      <td>0.3670</td>\n",
       "      <td>0.810</td>\n",
       "      <td>164973</td>\n",
       "      <td>Hold On</td>\n",
       "    </tr>\n",
       "  </tbody>\n",
       "</table>\n",
       "</div>"
      ],
      "text/plain": [
       "   Unnamed: 0     artist_name  danceability  energy  key  loudness  mode  \\\n",
       "0           1  Jonas Brothers         0.594   0.464    0    -7.898     1   \n",
       "1           2  Jonas Brothers         0.582   0.697    7    -3.842     1   \n",
       "2           3  Jonas Brothers         0.442   0.961    1    -2.914     1   \n",
       "3           4  Jonas Brothers         0.659   0.857   11    -5.850     1   \n",
       "4           5  Jonas Brothers         0.468   0.893   11    -3.554     1   \n",
       "\n",
       "   speechiness  acousticness  instrumentalness  liveness  valence  \\\n",
       "0       0.0340      0.306000          0.000000    0.1870    0.545   \n",
       "1       0.0695      0.000745          0.000000    0.1850    0.701   \n",
       "2       0.0928      0.000035          0.000036    0.0619    0.405   \n",
       "3       0.0437      0.004500          0.000002    0.3350    0.798   \n",
       "4       0.1300      0.003890          0.000000    0.3670    0.810   \n",
       "\n",
       "   duration_ms      track_name  \n",
       "0       193866  Please Be Mine  \n",
       "1       153346          S.O.S.  \n",
       "2       168480           Mandy  \n",
       "3       201960       Year 3000  \n",
       "4       164973         Hold On  "
      ]
     },
     "execution_count": 60,
     "metadata": {},
     "output_type": "execute_result"
    }
   ],
   "source": [
    "# Data\n",
    "m = pd.read_csv(\"https://raw.githubusercontent.com/cmparlettpelleriti/CPSC392ParlettPelleriti/master/Data/Music_data.csv\")\n",
    "\n",
    "m.head()"
   ]
  },
  {
   "cell_type": "code",
   "execution_count": 61,
   "metadata": {},
   "outputs": [
    {
     "data": {
      "text/plain": [
       "(2553, 14)"
      ]
     },
     "execution_count": 61,
     "metadata": {},
     "output_type": "execute_result"
    }
   ],
   "source": [
    "m.shape"
   ]
  },
  {
   "cell_type": "markdown",
   "metadata": {},
   "source": [
    "# Train Test Split"
   ]
  },
  {
   "cell_type": "code",
   "execution_count": 62,
   "metadata": {},
   "outputs": [],
   "source": [
    "# Split Data\n",
    "predictors = [\"energy\", \"key\", \"loudness\", \"mode\", \"speechiness\", \"acousticness\", \"instrumentalness\", \"liveness\", \"valence\", \"duration_ms\"]\n",
    "\n",
    "X_train, X_test, y_train, y_test = train_test_split(m[predictors], m[\"danceability\"], test_size=0.2)\n"
   ]
  },
  {
   "cell_type": "code",
   "execution_count": 72,
   "metadata": {},
   "outputs": [
    {
     "name": "stdout",
     "output_type": "stream",
     "text": [
      "(2042, 10)\n",
      "(511, 10)\n"
     ]
    },
    {
     "data": {
      "text/html": [
       "<div>\n",
       "<style scoped>\n",
       "    .dataframe tbody tr th:only-of-type {\n",
       "        vertical-align: middle;\n",
       "    }\n",
       "\n",
       "    .dataframe tbody tr th {\n",
       "        vertical-align: top;\n",
       "    }\n",
       "\n",
       "    .dataframe thead th {\n",
       "        text-align: right;\n",
       "    }\n",
       "</style>\n",
       "<table border=\"1\" class=\"dataframe\">\n",
       "  <thead>\n",
       "    <tr style=\"text-align: right;\">\n",
       "      <th></th>\n",
       "      <th>energy</th>\n",
       "      <th>key</th>\n",
       "      <th>loudness</th>\n",
       "      <th>mode</th>\n",
       "      <th>speechiness</th>\n",
       "      <th>acousticness</th>\n",
       "      <th>instrumentalness</th>\n",
       "      <th>liveness</th>\n",
       "      <th>valence</th>\n",
       "      <th>duration_ms</th>\n",
       "    </tr>\n",
       "  </thead>\n",
       "  <tbody>\n",
       "    <tr>\n",
       "      <th>898</th>\n",
       "      <td>0.470</td>\n",
       "      <td>1</td>\n",
       "      <td>-9.080</td>\n",
       "      <td>1</td>\n",
       "      <td>0.0819</td>\n",
       "      <td>0.22800</td>\n",
       "      <td>0.000099</td>\n",
       "      <td>0.1590</td>\n",
       "      <td>0.555</td>\n",
       "      <td>301173</td>\n",
       "    </tr>\n",
       "    <tr>\n",
       "      <th>1062</th>\n",
       "      <td>0.155</td>\n",
       "      <td>0</td>\n",
       "      <td>-14.378</td>\n",
       "      <td>1</td>\n",
       "      <td>0.0428</td>\n",
       "      <td>0.98700</td>\n",
       "      <td>0.000060</td>\n",
       "      <td>0.1800</td>\n",
       "      <td>0.511</td>\n",
       "      <td>199800</td>\n",
       "    </tr>\n",
       "    <tr>\n",
       "      <th>2312</th>\n",
       "      <td>0.818</td>\n",
       "      <td>6</td>\n",
       "      <td>-5.238</td>\n",
       "      <td>0</td>\n",
       "      <td>0.0978</td>\n",
       "      <td>0.05800</td>\n",
       "      <td>0.000000</td>\n",
       "      <td>0.1100</td>\n",
       "      <td>0.348</td>\n",
       "      <td>177533</td>\n",
       "    </tr>\n",
       "    <tr>\n",
       "      <th>2445</th>\n",
       "      <td>0.823</td>\n",
       "      <td>1</td>\n",
       "      <td>-4.674</td>\n",
       "      <td>1</td>\n",
       "      <td>0.0384</td>\n",
       "      <td>0.00209</td>\n",
       "      <td>0.000855</td>\n",
       "      <td>0.3620</td>\n",
       "      <td>0.585</td>\n",
       "      <td>239440</td>\n",
       "    </tr>\n",
       "    <tr>\n",
       "      <th>1746</th>\n",
       "      <td>0.816</td>\n",
       "      <td>4</td>\n",
       "      <td>-6.698</td>\n",
       "      <td>1</td>\n",
       "      <td>0.0774</td>\n",
       "      <td>0.01620</td>\n",
       "      <td>0.002080</td>\n",
       "      <td>0.0965</td>\n",
       "      <td>0.648</td>\n",
       "      <td>202960</td>\n",
       "    </tr>\n",
       "  </tbody>\n",
       "</table>\n",
       "</div>"
      ],
      "text/plain": [
       "      energy  key  loudness  mode  speechiness  acousticness  \\\n",
       "898    0.470    1    -9.080     1       0.0819       0.22800   \n",
       "1062   0.155    0   -14.378     1       0.0428       0.98700   \n",
       "2312   0.818    6    -5.238     0       0.0978       0.05800   \n",
       "2445   0.823    1    -4.674     1       0.0384       0.00209   \n",
       "1746   0.816    4    -6.698     1       0.0774       0.01620   \n",
       "\n",
       "      instrumentalness  liveness  valence  duration_ms  \n",
       "898           0.000099    0.1590    0.555       301173  \n",
       "1062          0.000060    0.1800    0.511       199800  \n",
       "2312          0.000000    0.1100    0.348       177533  \n",
       "2445          0.000855    0.3620    0.585       239440  \n",
       "1746          0.002080    0.0965    0.648       202960  "
      ]
     },
     "execution_count": 72,
     "metadata": {},
     "output_type": "execute_result"
    }
   ],
   "source": [
    "print(X_train.shape)\n",
    "print(X_test.shape)\n",
    "X_train.head()"
   ]
  },
  {
   "cell_type": "code",
   "execution_count": 73,
   "metadata": {},
   "outputs": [
    {
     "data": {
      "text/plain": [
       "LinearRegression()"
      ]
     },
     "execution_count": 73,
     "metadata": {},
     "output_type": "execute_result"
    }
   ],
   "source": [
    "model = LinearRegression()\n",
    "model.fit(X_train, y_train)"
   ]
  },
  {
   "cell_type": "code",
   "execution_count": 74,
   "metadata": {},
   "outputs": [
    {
     "data": {
      "text/plain": [
       "array([0.59687531, 0.57110979, 0.47540825, 0.4651969 , 0.64270345,\n",
       "       0.78677663, 0.64657551, 0.6239833 , 0.6243554 ])"
      ]
     },
     "execution_count": 74,
     "metadata": {},
     "output_type": "execute_result"
    }
   ],
   "source": [
    "# predictions\n",
    "y_pred = model.predict(X_test)\n",
    "y_pred[1:10]"
   ]
  },
  {
   "cell_type": "code",
   "execution_count": 75,
   "metadata": {},
   "outputs": [
    {
     "data": {
      "text/plain": [
       "0.2872535998378972"
      ]
     },
     "execution_count": 75,
     "metadata": {},
     "output_type": "execute_result"
    }
   ],
   "source": [
    "model.score(X_test, y_test) #testing R2"
   ]
  },
  {
   "cell_type": "code",
   "execution_count": 76,
   "metadata": {},
   "outputs": [
    {
     "data": {
      "text/plain": [
       "0.3788193805720863"
      ]
     },
     "execution_count": 76,
     "metadata": {},
     "output_type": "execute_result"
    }
   ],
   "source": [
    "model.score(X_train, y_train) #training R2"
   ]
  },
  {
   "cell_type": "code",
   "execution_count": 77,
   "metadata": {},
   "outputs": [
    {
     "data": {
      "text/html": [
       "<div>\n",
       "<style scoped>\n",
       "    .dataframe tbody tr th:only-of-type {\n",
       "        vertical-align: middle;\n",
       "    }\n",
       "\n",
       "    .dataframe tbody tr th {\n",
       "        vertical-align: top;\n",
       "    }\n",
       "\n",
       "    .dataframe thead th {\n",
       "        text-align: right;\n",
       "    }\n",
       "</style>\n",
       "<table border=\"1\" class=\"dataframe\">\n",
       "  <thead>\n",
       "    <tr style=\"text-align: right;\">\n",
       "      <th></th>\n",
       "      <th>predict</th>\n",
       "      <th>trueV</th>\n",
       "    </tr>\n",
       "  </thead>\n",
       "  <tbody>\n",
       "    <tr>\n",
       "      <th>1539</th>\n",
       "      <td>0.633906</td>\n",
       "      <td>0.830</td>\n",
       "    </tr>\n",
       "    <tr>\n",
       "      <th>197</th>\n",
       "      <td>0.596875</td>\n",
       "      <td>0.594</td>\n",
       "    </tr>\n",
       "    <tr>\n",
       "      <th>2154</th>\n",
       "      <td>0.571110</td>\n",
       "      <td>0.580</td>\n",
       "    </tr>\n",
       "    <tr>\n",
       "      <th>228</th>\n",
       "      <td>0.475408</td>\n",
       "      <td>0.729</td>\n",
       "    </tr>\n",
       "    <tr>\n",
       "      <th>110</th>\n",
       "      <td>0.465197</td>\n",
       "      <td>0.350</td>\n",
       "    </tr>\n",
       "  </tbody>\n",
       "</table>\n",
       "</div>"
      ],
      "text/plain": [
       "       predict  trueV\n",
       "1539  0.633906  0.830\n",
       "197   0.596875  0.594\n",
       "2154  0.571110  0.580\n",
       "228   0.475408  0.729\n",
       "110   0.465197  0.350"
      ]
     },
     "execution_count": 77,
     "metadata": {},
     "output_type": "execute_result"
    }
   ],
   "source": [
    "true_vs_pred = pd.DataFrame({\"predict\": y_pred,\"trueV\": y_test})\n",
    "true_vs_pred.head()"
   ]
  },
  {
   "cell_type": "code",
   "execution_count": 78,
   "metadata": {},
   "outputs": [
    {
     "data": {
      "image/png": "[encoded data removed]",
      "text/plain": [
       "<Figure size 640x480 with 1 Axes>"
      ]
     },
     "metadata": {},
     "output_type": "display_data"
    },
    {
     "data": {
      "text/plain": [
       "<ggplot: (-9223372036515386666)>"
      ]
     },
     "execution_count": 78,
     "metadata": {},
     "output_type": "execute_result"
    }
   ],
   "source": [
    "(ggplot(true_vs_pred, aes(x = \"trueV\", y = \"predict\")) + geom_point())"
   ]
  },
  {
   "cell_type": "markdown",
   "metadata": {},
   "source": [
    "# K Fold"
   ]
  },
  {
   "cell_type": "code",
   "execution_count": 79,
   "metadata": {},
   "outputs": [],
   "source": [
    "kf = KFold(n_splits = 10, shuffle = True)"
   ]
  },
  {
   "cell_type": "code",
   "execution_count": 80,
   "metadata": {},
   "outputs": [],
   "source": [
    "X = m[predictors]\n",
    "y = m[\"danceability\"]\n",
    "\n",
    "lr = LinearRegression()\n",
    "mse = []\n",
    "r2 = []"
   ]
  },
  {
   "cell_type": "code",
   "execution_count": 81,
   "metadata": {},
   "outputs": [],
   "source": [
    "for train,test in kf.split(X):\n",
    "    X_train = X.iloc[train]\n",
    "    X_test  = X.iloc[test]\n",
    "    y_train = y[train]\n",
    "    y_test  = y[test]\n",
    "    \n",
    "    # model\n",
    "    model = lr.fit(X_train, y_train)\n",
    "    # record accuracy\n",
    "    mse.append(mean_squared_error(y_test, model.predict(X_test)))\n",
    "    r2.append(r2_score(y_test,model.predict(X_test)))\n",
    "    "
   ]
  },
  {
   "cell_type": "code",
   "execution_count": 82,
   "metadata": {},
   "outputs": [
    {
     "data": {
      "text/plain": [
       "[0.020930307424301006,\n",
       " 0.02398415840437807,\n",
       " 0.017611888653199907,\n",
       " 0.014031482385972918,\n",
       " 0.017964541727112288,\n",
       " 0.021283298516371393,\n",
       " 0.021093072207528905,\n",
       " 0.007635165315696738,\n",
       " 0.011737773142066496,\n",
       " 0.011999264910150312]"
      ]
     },
     "execution_count": 82,
     "metadata": {},
     "output_type": "execute_result"
    }
   ],
   "source": [
    "mse"
   ]
  },
  {
   "cell_type": "code",
   "execution_count": 83,
   "metadata": {},
   "outputs": [
    {
     "data": {
      "text/plain": [
       "0.016827095268677806"
      ]
     },
     "execution_count": 83,
     "metadata": {},
     "output_type": "execute_result"
    }
   ],
   "source": [
    "np.mean(mse)"
   ]
  },
  {
   "cell_type": "code",
   "execution_count": 84,
   "metadata": {},
   "outputs": [
    {
     "data": {
      "text/plain": [
       "[-0.0026500320428106683,\n",
       " 0.32289285991515637,\n",
       " 0.39466086950544466,\n",
       " 0.28631073738917756,\n",
       " 0.2666614669225986,\n",
       " -0.01931044142466032,\n",
       " 0.21743248871668797,\n",
       " 0.26684400339532266,\n",
       " 0.15093339176307585,\n",
       " 0.1458587900640479]"
      ]
     },
     "execution_count": 84,
     "metadata": {},
     "output_type": "execute_result"
    }
   ],
   "source": [
    "r2"
   ]
  },
  {
   "cell_type": "code",
   "execution_count": 85,
   "metadata": {},
   "outputs": [
    {
     "data": {
      "text/plain": [
       "0.20296341342040405"
      ]
     },
     "execution_count": 85,
     "metadata": {},
     "output_type": "execute_result"
    }
   ],
   "source": [
    "np.mean(r2)"
   ]
  },
  {
   "cell_type": "markdown",
   "metadata": {},
   "source": [
    "# Leave One Out"
   ]
  },
  {
   "cell_type": "code",
   "execution_count": 86,
   "metadata": {},
   "outputs": [],
   "source": [
    "loo = LeaveOneOut()\n",
    "\n",
    "mse = []"
   ]
  },
  {
   "cell_type": "code",
   "execution_count": 87,
   "metadata": {},
   "outputs": [],
   "source": [
    "for train,test in loo.split(X):\n",
    "    X_train = X.iloc[train]\n",
    "    X_test  = X.iloc[test]\n",
    "    y_train = y[train]\n",
    "    y_test  = y[test]\n",
    "    \n",
    "    # model\n",
    "    model = lr.fit(X_train, y_train)\n",
    "    # record accuracy\n",
    "    mse.append(mean_squared_error(y_test, model.predict(X_test)))"
   ]
  },
  {
   "cell_type": "code",
   "execution_count": 88,
   "metadata": {},
   "outputs": [
    {
     "data": {
      "text/plain": [
       "0.01577326185227478"
      ]
     },
     "execution_count": 88,
     "metadata": {},
     "output_type": "execute_result"
    }
   ],
   "source": [
    "np.mean(mse)"
   ]
  },
  {
   "cell_type": "markdown",
   "metadata": {},
   "source": [
    "# Always Get the Same Split!\n",
    "When you do KFold or TTS, you will get slightly different splits every time you run the function, even with the same data! This is because the data is split randomly. \n",
    "\n",
    "If you want the same split every time, use the `random_state` argument."
   ]
  },
  {
   "cell_type": "code",
   "execution_count": 89,
   "metadata": {},
   "outputs": [],
   "source": [
    "X_train, X_test, y_train, y_test = train_test_split(m[predictors],\n",
    "                                                m[\"danceability\"],\n",
    "                                                test_size=0.2,\n",
    "                                                random_state = 42)\n",
    "kf = KFold(n_splits = 10, shuffle = True, random_state = 42) #we'll talk more about this later..."
   ]
  },
  {
   "cell_type": "markdown",
   "metadata": {},
   "source": [
    "# Quick Note about Data Leakage..."
   ]
  },
  {
   "cell_type": "code",
   "execution_count": 90,
   "metadata": {},
   "outputs": [
    {
     "data": {
      "text/html": [
       "<div>\n",
       "<style scoped>\n",
       "    .dataframe tbody tr th:only-of-type {\n",
       "        vertical-align: middle;\n",
       "    }\n",
       "\n",
       "    .dataframe tbody tr th {\n",
       "        vertical-align: top;\n",
       "    }\n",
       "\n",
       "    .dataframe thead th {\n",
       "        text-align: right;\n",
       "    }\n",
       "</style>\n",
       "<table border=\"1\" class=\"dataframe\">\n",
       "  <thead>\n",
       "    <tr style=\"text-align: right;\">\n",
       "      <th></th>\n",
       "      <th>energy</th>\n",
       "      <th>key</th>\n",
       "      <th>loudness</th>\n",
       "      <th>mode</th>\n",
       "      <th>speechiness</th>\n",
       "      <th>acousticness</th>\n",
       "      <th>instrumentalness</th>\n",
       "      <th>liveness</th>\n",
       "      <th>valence</th>\n",
       "      <th>duration_ms</th>\n",
       "    </tr>\n",
       "  </thead>\n",
       "  <tbody>\n",
       "    <tr>\n",
       "      <th>2101</th>\n",
       "      <td>0.651</td>\n",
       "      <td>7</td>\n",
       "      <td>-4.396</td>\n",
       "      <td>1</td>\n",
       "      <td>0.0266</td>\n",
       "      <td>0.0670</td>\n",
       "      <td>0.000000</td>\n",
       "      <td>0.1450</td>\n",
       "      <td>0.2030</td>\n",
       "      <td>294333</td>\n",
       "    </tr>\n",
       "    <tr>\n",
       "      <th>1614</th>\n",
       "      <td>0.595</td>\n",
       "      <td>1</td>\n",
       "      <td>-6.887</td>\n",
       "      <td>0</td>\n",
       "      <td>0.1090</td>\n",
       "      <td>0.0248</td>\n",
       "      <td>0.000005</td>\n",
       "      <td>0.0405</td>\n",
       "      <td>0.6290</td>\n",
       "      <td>261880</td>\n",
       "    </tr>\n",
       "    <tr>\n",
       "      <th>2040</th>\n",
       "      <td>0.918</td>\n",
       "      <td>11</td>\n",
       "      <td>-3.187</td>\n",
       "      <td>0</td>\n",
       "      <td>0.0912</td>\n",
       "      <td>0.0155</td>\n",
       "      <td>0.000015</td>\n",
       "      <td>0.2630</td>\n",
       "      <td>0.5950</td>\n",
       "      <td>220306</td>\n",
       "    </tr>\n",
       "    <tr>\n",
       "      <th>963</th>\n",
       "      <td>0.453</td>\n",
       "      <td>3</td>\n",
       "      <td>-6.824</td>\n",
       "      <td>1</td>\n",
       "      <td>0.0348</td>\n",
       "      <td>0.3070</td>\n",
       "      <td>0.000000</td>\n",
       "      <td>0.0844</td>\n",
       "      <td>0.0679</td>\n",
       "      <td>217440</td>\n",
       "    </tr>\n",
       "    <tr>\n",
       "      <th>2100</th>\n",
       "      <td>0.712</td>\n",
       "      <td>5</td>\n",
       "      <td>-4.418</td>\n",
       "      <td>1</td>\n",
       "      <td>0.0273</td>\n",
       "      <td>0.0400</td>\n",
       "      <td>0.000000</td>\n",
       "      <td>0.3090</td>\n",
       "      <td>0.4760</td>\n",
       "      <td>241986</td>\n",
       "    </tr>\n",
       "  </tbody>\n",
       "</table>\n",
       "</div>"
      ],
      "text/plain": [
       "      energy  key  loudness  mode  speechiness  acousticness  \\\n",
       "2101   0.651    7    -4.396     1       0.0266        0.0670   \n",
       "1614   0.595    1    -6.887     0       0.1090        0.0248   \n",
       "2040   0.918   11    -3.187     0       0.0912        0.0155   \n",
       "963    0.453    3    -6.824     1       0.0348        0.3070   \n",
       "2100   0.712    5    -4.418     1       0.0273        0.0400   \n",
       "\n",
       "      instrumentalness  liveness  valence  duration_ms  \n",
       "2101          0.000000    0.1450   0.2030       294333  \n",
       "1614          0.000005    0.0405   0.6290       261880  \n",
       "2040          0.000015    0.2630   0.5950       220306  \n",
       "963           0.000000    0.0844   0.0679       217440  \n",
       "2100          0.000000    0.3090   0.4760       241986  "
      ]
     },
     "execution_count": 90,
     "metadata": {},
     "output_type": "execute_result"
    }
   ],
   "source": [
    "# Say you want to standardize...\n",
    "# Split Data\n",
    "predictors = [\"energy\", \"key\", \"loudness\", \"mode\", \"speechiness\", \"acousticness\",\n",
    "              \"instrumentalness\", \"liveness\", \"valence\", \"duration_ms\"]\n",
    "contin = [\"energy\", \"loudness\", \"speechiness\", \"acousticness\",\n",
    "              \"instrumentalness\", \"liveness\", \"valence\", \"duration_ms\"]\n",
    "\n",
    "\n",
    "X_train, X_test, y_train, y_test = train_test_split(m[predictors], m[\"danceability\"], test_size=0.2)\n",
    "\n",
    "X_train.head()"
   ]
  },
  {
   "cell_type": "code",
   "execution_count": 91,
   "metadata": {},
   "outputs": [
    {
     "data": {
      "text/plain": [
       "StandardScaler()"
      ]
     },
     "execution_count": 91,
     "metadata": {},
     "output_type": "execute_result"
    }
   ],
   "source": [
    "zscore = StandardScaler()\n",
    "zscore.fit(X_train[contin])"
   ]
  },
  {
   "cell_type": "code",
   "execution_count": 92,
   "metadata": {},
   "outputs": [],
   "source": [
    "X_train[contin] = zscore.transform(X_train[contin])\n",
    "X_test[contin] = zscore.transform(X_test[contin]) # DO NOT REFIT, I REPEAT DO NOT REFIT"
   ]
  },
  {
   "cell_type": "code",
   "execution_count": 93,
   "metadata": {},
   "outputs": [
    {
     "name": "stdout",
     "output_type": "stream",
     "text": [
      "0.017096654998859852\n",
      "0.2608733282837335\n"
     ]
    }
   ],
   "source": [
    "# in KF\n",
    "X = m[predictors]\n",
    "y = m[\"danceability\"]\n",
    "\n",
    "lr = LinearRegression()\n",
    "\n",
    "kf = KFold(5, shuffle = True)\n",
    "\n",
    "mse = []\n",
    "r2 = []\n",
    "\n",
    "for train,test in kf.split(X):\n",
    "    X_train = X.iloc[train]\n",
    "    X_test  = X.iloc[test]\n",
    "    y_train = y[train]\n",
    "    y_test  = y[test]\n",
    "    \n",
    "    z = StandardScaler()\n",
    "    X_train[contin] = z.fit_transform(X_train[contin])\n",
    "    X_test[contin] = z.transform(X_test[contin])\n",
    "    \n",
    "    # model\n",
    "    model = lr.fit(X_train, y_train)\n",
    "    # record accuracy\n",
    "    mse.append(mean_squared_error(y_test, model.predict(X_test)))\n",
    "    r2.append(r2_score(y_test,model.predict(X_test)))\n",
    "    \n",
    "print(np.mean(mse))\n",
    "print(np.mean(r2))"
   ]
  }
 ],
 "metadata": {
  "hide_input": false,
  "kernelspec": {
   "display_name": "Python 3",
   "language": "python",
   "name": "python3"
  },
  "language_info": {
   "codemirror_mode": {
    "name": "ipython",
    "version": 3
   },
   "file_extension": ".py",
   "mimetype": "text/x-python",
   "name": "python",
   "nbconvert_exporter": "python",
   "pygments_lexer": "ipython3",
   "version": "3.7.3"
  },
  "toc": {
   "base_numbering": 1,
   "nav_menu": {},
   "number_sections": true,
   "sideBar": true,
   "skip_h1_title": false,
   "title_cell": "Table of Contents",
   "title_sidebar": "Contents",
   "toc_cell": false,
   "toc_position": {},
   "toc_section_display": true,
   "toc_window_display": false
  }
 },
 "nbformat": 4,
 "nbformat_minor": 4
}

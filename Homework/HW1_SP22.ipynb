{
 "cells": [
  {
   "cell_type": "markdown",
   "metadata": {},
   "source": [
    "# HW1\n",
    "\n",
    "GENERAL INSTRUCTIONS:\n",
    "\n",
    "- For all ggplots, make sure you make changes so that the data viz is effective, clear, and does not contain distracting elements, graphs will be graded both on correctness (did you plot the right hting) as well as on effectiveness (does this graph thoughtfully demonstrate the principles we learned in our data viz lectures).\n",
    "- CLEARLY mark where you are answering each question (see [here](https://github.com/cmparlettpelleriti/CPSC392ParlettPelleriti/blob/master/Extras/HW1_Format%20Example.ipynb) for an example format).\n",
    "- Show all code necessary for the analysis, but remove superfluous code\n",
    "\n",
    "---\n",
    "\n",
    "Using the dataset linked [here](https://raw.githubusercontent.com/cmparlettpelleriti/CPSC392ParlettPelleriti/master/Data/reactionTime.csv), <strong>build a linear regression model to predict *reaction time* from a lab based cognitive task (reaction time refers to the amount of time it takes a person to react after seeing a stimuli on a screen) based on all the other variables.</strong>\n",
    "\n",
    "\n",
    "### Variables\n",
    "- age: age in years\n",
    "- boredom_rating: a scale of 0-100 with 0 being completely not bored, 100 is completely bored\n",
    "- risk_propensity: a scale of 0-28 where higher scored indicate a person is more likely to take risks\n",
    "- height: height in cm\n",
    "- left_handed: 0 if the person is right handed, 1 if they are left handed\n",
    "- reaction_time: reaction time in ms\n",
    "\n",
    "\n",
    "### Instructions\n",
    "<ul> \n",
    "<li> a) use an 80/20 train test split for model validation and make sure you z score your continuous/interval variables ONLY \n",
    "<li> b) check the linearity assumption for your continuous variables using ggplot (using all the training data). <strong>Discuss</strong> in detail what you are checking for and specifically what you see for this model (regardless of the results, continue building the linear regression model, as we do not have any other alternatives yet). \n",
    "<li> c) check the assumption of homoscedasticity by plotting predicted reaction times and residuals using ggplot (using the training set). <strong>Discuss</strong> in detail what you are checking for and what patterns you see specifically for this model.\n",
    "<li> d) plot the actual vs. predicted reaction times (for both train an test set separately), as well as print out the mean <em>absolute</em> error for both <em>train</em> and <em>test</em> and $R^2$ for your model for both <em>train</em> and <em>test</em>. <strong>Discuss</strong> how well your model did based on these metrics, and how can you tell.\n",
    "<li> e) is your model overfit? <strong>Discuss</strong> in detail how you can tell.\n",
    "<li> f) use ggplot to make a bar chart showing the coefficient values (x should be each coef name, the height of each bar should be the value of the coefficient). DO NOT include the intercept in this plot. Briefly <strong>discuss</strong> the impact of each variable on reaction time.\n",
    "</ul> \n",
    "\n",
    "Feel free to add cells to this notebook in order to execute the code, but for parts b,c, and d, make sure you put the discussion part in a *Markdown* cell, do not use code comments to answer. "
   ]
  },
  {
   "cell_type": "code",
   "execution_count": 1,
   "metadata": {},
   "outputs": [],
   "source": [
    "# import necessary packages\n"
   ]
  },
  {
   "cell_type": "code",
   "execution_count": 2,
   "metadata": {},
   "outputs": [],
   "source": [
    "# code"
   ]
  }
 ],
 "metadata": {
  "hide_input": false,
  "kernelspec": {
   "display_name": "Python 3",
   "language": "python",
   "name": "python3"
  },
  "language_info": {
   "codemirror_mode": {
    "name": "ipython",
    "version": 3
   },
   "file_extension": ".py",
   "mimetype": "text/x-python",
   "name": "python",
   "nbconvert_exporter": "python",
   "pygments_lexer": "ipython3",
   "version": "3.8.1"
  },
  "toc": {
   "base_numbering": 1,
   "nav_menu": {},
   "number_sections": true,
   "sideBar": true,
   "skip_h1_title": false,
   "title_cell": "Table of Contents",
   "title_sidebar": "Contents",
   "toc_cell": false,
   "toc_position": {},
   "toc_section_display": true,
   "toc_window_display": false
  }
 },
 "nbformat": 4,
 "nbformat_minor": 4
}
